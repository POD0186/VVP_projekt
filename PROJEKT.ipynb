{
 "cells": [
  {
   "cell_type": "code",
   "execution_count": 11,
   "metadata": {},
   "outputs": [],
   "source": [
    "from typing import List, Dict\n",
    "from unidecode import unidecode\n",
    "import matplotlib.pyplot as plt\n",
    "schema = {}\n",
    "vyskyty_rymu = {'Sdružený': 0, 'Střídavý': 0, 'Obkročný': 0, 'Přerývaný': 0}"
   ]
  },
  {
   "cell_type": "code",
   "execution_count": 12,
   "metadata": {},
   "outputs": [
    {
     "name": "stdout",
     "output_type": "stream",
     "text": [
      "['Jak lvové bijem o mříže,\\n', 'jak lvové v kleci jatí,\\n', 'my bychom vzhůru k nebesům\\n', 'a jsme zde Zemí spjatí.\\n', '\\n', 'Nám zdá se, z hvězd že vane hlas:\\n', '\"Nuž pojďte, páni, blíže,\\n', 'jen trochu blíže, hrdobci*,\\n', 'jimž hrouda nohy víže!\"\\n', '\\n', 'My přijdem! Odpusť, matičko,\\n', 'již jsi nám, Země, malá,\\n', 'my blesk k myšlénkám spřaháme\\n', 'a noha parou cvalá.\\n', '\\n', 'My přijdem! Duch náš roste v výš\\n', 'a tepny touhou bijí,\\n', 'zimniční touhou po světech\\n', 'div srdce nerozbijí!\\n', '\\n', 'My přijdem blíž, my přijdem blíž,\\n', 'my světů dožijeme,\\n', 'my bijem o mříž, ducha lvi,\\n', 'a my ji rozbijeme!']\n"
     ]
    }
   ],
   "source": [
    "nazev_souboru = input('Zadej název souboru s básní: ')\n",
    "def nacti_basnicku(nazev_souboru: str) -> List[str]:\n",
    "    \"\"\"Funkce načte obsah souboru s básničkou a vrátí pole řádků.\"\"\"\n",
    "    with open(nazev_souboru) as soubor:\n",
    "        radky = soubor.readlines()\n",
    "    return radky\n",
    "\n",
    "print(nacti_basnicku(nazev_souboru))"
   ]
  },
  {
   "cell_type": "code",
   "execution_count": 13,
   "metadata": {},
   "outputs": [
    {
     "name": "stdout",
     "output_type": "stream",
     "text": [
      "['ze', 'ty', 'um', 'ty', 'as', 'ze', 'cy', 'ze', 'ko', 'la', 'me', 'la', 'ys', 'jy', 'ch', 'jy', 'yz', 'me', 'vy', 'me']\n"
     ]
    }
   ],
   "source": [
    "def zpracuj_basnicku(radky: List[str]) -> List[str]:\n",
    "    \"\"\"Funkce zpracuje pole řádků básně a vrátí pole posledních znaků každého řádku.\"\"\"\n",
    "    posledni_pismena = []\n",
    "    for radek in radky:\n",
    "        radek = radek.strip()\n",
    "        if radek:\n",
    "            for spatne_znaky in [\".\", \",\", \"!\", \":\", \"-\", \"?\", \"“\", \"—\", \"*\", \" \", \"–\", \";\", '\"']:\n",
    "                radek = radek.replace(spatne_znaky, \"\")\n",
    "            radek = radek.replace('i', 'y').replace('í', 'ý').replace('I', 'Y').replace('Í', 'Ý')\n",
    "            posledni_znaky = unidecode(radek[-2:]) if unidecode(radek[-1]) != '\\n' else unidecode(radek[-3:-1])\n",
    "            posledni_pismena.append(posledni_znaky)\n",
    "    return posledni_pismena\n",
    "\n",
    "radky = nacti_basnicku(nazev_souboru)\n",
    "pole_znaku = zpracuj_basnicku(radky)\n",
    "print(pole_znaku)"
   ]
  },
  {
   "cell_type": "code",
   "execution_count": 14,
   "metadata": {},
   "outputs": [
    {
     "name": "stdout",
     "output_type": "stream",
     "text": [
      "Tento rým je přerývaný.\n",
      "\n",
      "Tento rým je přerývaný.\n",
      "\n",
      "Tento rým je přerývaný.\n",
      "\n",
      "Tento rým je přerývaný.\n",
      "\n",
      "Tento rým je přerývaný.\n",
      "\n",
      "{'Sdružený': 0, 'Střídavý': 0, 'Obkročný': 0, 'Přerývaný': 5}\n"
     ]
    }
   ],
   "source": [
    "def zjisti_schema(pole_znaku: List[str]) -> Dict[str, int]:\n",
    "    \"\"\"Funkce zjistí schéma rýmů na základě pole posledních znaků a následně určí druhy rýmů a vrátí slovník s výskytem rýmů.\"\"\"\n",
    "    for j in range(0, len(pole_znaku), 4):\n",
    "            if pole_znaku[j+1] != pole_znaku[j]:\n",
    "                schema[pole_znaku[j]] = 'A'\n",
    "                schema[pole_znaku[j+1]] = 'B'\n",
    "            else:\n",
    "                schema[pole_znaku[j]] = 'A'\n",
    "                schema[pole_znaku[j+1]] = 'A'\n",
    "\n",
    "            if [pole_znaku[j]] != [pole_znaku[j+1]]:        \n",
    "\n",
    "                if pole_znaku[j+2] == pole_znaku[j]:\n",
    "                    schema[pole_znaku[j+2]] ='A'\n",
    "                elif pole_znaku[j+2] == pole_znaku[j+1]:\n",
    "                    schema[pole_znaku[j+2]] = 'B'\n",
    "                else:\n",
    "                    schema[pole_znaku[j+2]] = 'C'\n",
    "\n",
    "                if pole_znaku[j+3] == pole_znaku[j]:\n",
    "                    schema[pole_znaku[j+3]] = 'A'\n",
    "                elif pole_znaku[j+3] == pole_znaku[j+1]:\n",
    "                    schema[pole_znaku[j+3]] = 'B'\n",
    "                else:\n",
    "                    schema[pole_znaku[j+3]] = 'C'   \n",
    "            else:                              \n",
    "                schema[pole_znaku[j+2]] = 'B'        \n",
    "                schema[pole_znaku[j+3]] = 'B'                \n",
    "            \n",
    "            if schema[pole_znaku[j]] == 'A' and schema[pole_znaku[j+1]] == 'A' and schema[pole_znaku[j+2]] == 'B' and schema[pole_znaku[j+3]] == 'B':\n",
    "                print('Tento rým je sdružený.\\n') \n",
    "                vyskyty_rymu['Sdružený'] += 1\n",
    "            elif schema[pole_znaku[j]] == 'A' and schema[pole_znaku[j+1]] == 'B' and schema[pole_znaku[j+2]] == 'A' and schema[pole_znaku[j+3]] == 'B':\n",
    "                print('Tento rým je střídavý.\\n')\n",
    "                vyskyty_rymu['Střídavý'] += 1 \n",
    "            elif schema[pole_znaku[j]] == 'A' and schema[pole_znaku[j+1]] == 'B' and schema[pole_znaku[j+2]] == 'B' and schema[pole_znaku[j+3]] == 'A':\n",
    "                print('Tento rým je obkročný.\\n')\n",
    "                vyskyty_rymu['Obkročný'] += 1 \n",
    "            elif schema[pole_znaku[j]] == 'A' and schema[pole_znaku[j+1]] == 'B' and schema[pole_znaku[j+2]] == 'C' and schema[pole_znaku[j+3]] == 'B':\n",
    "                print('Tento rým je přerývaný.\\n')  \n",
    "                vyskyty_rymu['Přerývaný'] += 1 \n",
    "            else: print('Tento druh rýmu neumím určit.\\n')\n",
    "    return vyskyty_rymu\n",
    "vypis_schema = zjisti_schema(pole_znaku)\n",
    "print(vyskyty_rymu)"
   ]
  },
  {
   "cell_type": "code",
   "execution_count": 15,
   "metadata": {},
   "outputs": [
    {
     "data": {
      "image/png": "[encoded data removed]",
      "text/plain": [
       "<Figure size 640x480 with 1 Axes>"
      ]
     },
     "metadata": {},
     "output_type": "display_data"
    }
   ],
   "source": [
    "def graf_rymu(vyskyty_rymu: Dict[str,int] ) -> None:\n",
    "    \"\"\"Funkce zobrazí sloupcový graf s počtem jednotlivých rýmů.\"\"\" \n",
    "    rymy = list(vyskyty_rymu.keys())\n",
    "    pocet_vyskytu = list(vyskyty_rymu.values())\n",
    "    plt.bar(rymy, pocet_vyskytu, color='blue')\n",
    "    plt.title('Celkový počet všech rýmů')\n",
    "    plt.xlabel('Typ rýmu')\n",
    "    plt.ylabel('Počet rýmů')\n",
    "    plt.show()\n",
    "\n",
    "graf_rymu(vyskyty_rymu)"
   ]
  }
 ],
 "metadata": {
  "kernelspec": {
   "display_name": "base",
   "language": "python",
   "name": "python3"
  },
  "language_info": {
   "codemirror_mode": {
    "name": "ipython",
    "version": 3
   },
   "file_extension": ".py",
   "mimetype": "text/x-python",
   "name": "python",
   "nbconvert_exporter": "python",
   "pygments_lexer": "ipython3",
   "version": "3.9.13"
  },
  "orig_nbformat": 4
 },
 "nbformat": 4,
 "nbformat_minor": 2
}
